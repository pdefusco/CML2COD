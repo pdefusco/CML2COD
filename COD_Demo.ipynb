{
 "cells": [
  {
   "cell_type": "markdown",
   "id": "olive-script",
   "metadata": {},
   "source": [
    "# Phoenix DB Client Example\n",
    "\n",
    "## You can load a dataset into a Phoenix table via the PhoenixDB library\n",
    "\n",
    "##### First, create a database connection. Notice Phoenix credentials are saved into your CML Project as environment variables.\n",
    "\n",
    "##### To add yours, navigate to Project Settings -> Advanced -> Add the variables for your user and restart the CML session.\n"
   ]
  },
  {
   "cell_type": "code",
   "execution_count": 67,
   "id": "lonely-relations",
   "metadata": {},
   "outputs": [
    {
     "name": "stdout",
     "output_type": "stream",
     "text": [
      "Requirement already satisfied: pandas in ./.local/lib/python3.6/site-packages (from -r requirements.txt (line 1)) (1.1.5)\n",
      "Requirement already satisfied: phoenixdb in ./.local/lib/python3.6/site-packages (from -r requirements.txt (line 2)) (1.0.1)\n",
      "Requirement already satisfied: python-dateutil>=2.7.3 in /usr/local/lib/python3.6/site-packages (from pandas->-r requirements.txt (line 1)) (2.8.1)\n",
      "Requirement already satisfied: pytz>=2017.2 in ./.local/lib/python3.6/site-packages (from pandas->-r requirements.txt (line 1)) (2021.1)\n",
      "Requirement already satisfied: numpy>=1.15.4 in ./.local/lib/python3.6/site-packages (from pandas->-r requirements.txt (line 1)) (1.19.5)\n",
      "Requirement already satisfied: six>=1.5 in /usr/local/lib/python3.6/site-packages (from python-dateutil>=2.7.3->pandas->-r requirements.txt (line 1)) (1.15.0)\n",
      "Requirement already satisfied: requests in /usr/local/lib/python3.6/site-packages (from phoenixdb->-r requirements.txt (line 2)) (2.25.1)\n",
      "Requirement already satisfied: requests-gssapi in ./.local/lib/python3.6/site-packages (from phoenixdb->-r requirements.txt (line 2)) (1.2.3)\n",
      "Requirement already satisfied: protobuf>=3.0.0 in ./.local/lib/python3.6/site-packages (from phoenixdb->-r requirements.txt (line 2)) (3.17.3)\n",
      "Requirement already satisfied: SQLAlchemy in ./.local/lib/python3.6/site-packages (from phoenixdb->-r requirements.txt (line 2)) (1.4.18)\n",
      "Requirement already satisfied: chardet<5,>=3.0.2 in /usr/local/lib/python3.6/site-packages (from requests->phoenixdb->-r requirements.txt (line 2)) (4.0.0)\n",
      "Requirement already satisfied: idna<3,>=2.5 in /usr/local/lib/python3.6/site-packages (from requests->phoenixdb->-r requirements.txt (line 2)) (2.10)\n",
      "Requirement already satisfied: urllib3<1.27,>=1.21.1 in /usr/local/lib/python3.6/site-packages (from requests->phoenixdb->-r requirements.txt (line 2)) (1.26.3)\n",
      "Requirement already satisfied: certifi>=2017.4.17 in /usr/local/lib/python3.6/site-packages (from requests->phoenixdb->-r requirements.txt (line 2)) (2020.11.8)\n",
      "Requirement already satisfied: gssapi in ./.local/lib/python3.6/site-packages (from requests-gssapi->phoenixdb->-r requirements.txt (line 2)) (1.6.13)\n",
      "Requirement already satisfied: decorator in /usr/local/lib/python3.6/site-packages (from gssapi->requests-gssapi->phoenixdb->-r requirements.txt (line 2)) (4.4.2)\n",
      "Requirement already satisfied: importlib-metadata in /usr/local/lib/python3.6/site-packages (from SQLAlchemy->phoenixdb->-r requirements.txt (line 2)) (3.4.0)\n",
      "Requirement already satisfied: greenlet!=0.4.17 in ./.local/lib/python3.6/site-packages (from SQLAlchemy->phoenixdb->-r requirements.txt (line 2)) (1.1.0)\n",
      "Requirement already satisfied: zipp>=0.5 in /usr/local/lib/python3.6/site-packages (from importlib-metadata->SQLAlchemy->phoenixdb->-r requirements.txt (line 2)) (3.4.0)\n",
      "Requirement already satisfied: typing-extensions>=3.6.4 in /usr/local/lib/python3.6/site-packages (from importlib-metadata->SQLAlchemy->phoenixdb->-r requirements.txt (line 2)) (3.7.4.3)\n",
      "\u001b[33mWARNING: You are using pip version 21.0.1; however, version 21.1.2 is available.\n",
      "You should consider upgrading via the '/usr/local/bin/python3.6 -m pip install --upgrade pip' command.\u001b[0m\n"
     ]
    }
   ],
   "source": [
    "!pip3 install -r requirements.txt"
   ]
  },
  {
   "cell_type": "code",
   "execution_count": 68,
   "id": "changed-rental",
   "metadata": {},
   "outputs": [],
   "source": [
    "import pandas as pd"
   ]
  },
  {
   "cell_type": "code",
   "execution_count": 79,
   "id": "underlying-injury",
   "metadata": {},
   "outputs": [],
   "source": [
    "class Db:\n",
    "    def __init__(self):\n",
    "        opts = {}\n",
    "        opts['authentication'] = 'BASIC'\n",
    "        opts['avatica_user'] = os.environ[\"WORKLOAD_USERNAME\"]\n",
    "        opts['avatica_password'] = os.environ[\"WORKLOAD_PASSWORD\"]\n",
    "        database_url = os.environ[\"COD_ENDPOINT\"]\n",
    "        self.TABLENAME = \"test_table_paul\"\n",
    "        self.conn = phoenixdb.connect(database_url, autocommit=True,**opts)\n",
    "        self.curs = self.conn.cursor()\n",
    "        \n",
    "    def create_linkage_table(self):\n",
    "        \n",
    "        query = \"\"\"\n",
    "        CREATE TABLE IF NOT EXISTS \"COD_DEMO_TABLE\" (\n",
    "        age VARCHAR,\n",
    "        workclass VARCHAR,\n",
    "        fnlwgt VARCHAR,\n",
    "        education VARCHAR,\n",
    "        educationnum  VARCHAR,\n",
    "        marital VARCHAR,\n",
    "        occupation VARCHAR,\n",
    "        relationship VARCHAR,\n",
    "        race  VARCHAR,\n",
    "        sex VARCHAR,\n",
    "        capitalgain VARCHAR,\n",
    "        capitalloss VARCHAR,\n",
    "        hoursperweek  VARCHAR,\n",
    "        nativecountry VARCHAR, \n",
    "        income VARCHAR,\n",
    "        unique_id VARCHAR CONSTRAINT my_pk PRIMARY KEY (unique_id))\n",
    "        \"\"\"\n",
    "        \n",
    "        self.curs.execute(query)\n",
    "        \n",
    "    def upsert_linkage(self, data):\n",
    "\n",
    "        sql = \"\"\"upsert into \"COD_DEMO_TABLE\" \\\n",
    "             (age,workclass,fnlwgt,education,educationnum,marital,occupation,relationship,race,sex,capitalgain,capitalloss,hoursperweek,nativecountry,income, unique_id) \\\n",
    "             values (?,?,?,?,?,?,?,?,?,?,?,?,?,?,?)\"\"\"\n",
    "        #print(data)\n",
    "        self.curs.executemany(sql,data)\n",
    "        self.conn.commit()\n",
    "        \n",
    "    def get_data(self):\n",
    "\n",
    "        query = f\"SELECT count(*) FROM COD_DEMO_TABLE\"\n",
    "\n",
    "        model.curs.execute(query)\n",
    "        rows = model.curs.fetchall()\n",
    "\n",
    "        return rows"
   ]
  },
  {
   "cell_type": "code",
   "execution_count": 80,
   "id": "liked-masters",
   "metadata": {},
   "outputs": [],
   "source": [
    "def upsert_data(data, records=100):\n",
    "        total_records=0\n",
    "        header = True\n",
    "        rows = []\n",
    "        i=1\n",
    "        model=Db()\n",
    "        for index, row in data.iterrows():\n",
    "\n",
    "            rows.append ([f\"{row['unique_id']}\", f\"{row['age']}\",\\\n",
    "                      f\"{row['workclass']}\",f\"{row['fnlwgt']}\",\\\n",
    "                      f\"{row['education']}\",f\"{row['educationnum']}\", \\\n",
    "                      f\"{row['marital']}\",f\"{row['occupation']}\", \\\n",
    "                      f\"{row['relationship']}\",f\"{row['race']}\", \\\n",
    "                      f\"{row['sex']}\",f\"{row['capitalgain']}\", \\\n",
    "                      f\"{row['capitalloss']}\", f\"{row['hoursperweek']}\", \n",
    "                      f\"{row['nativecountry']}\"])\n",
    "                          \n",
    "            total_records=total_records+1\n",
    "\n",
    "            if i < records + 1 :   \n",
    "                i=i+1\n",
    "            else :\n",
    "                model.upsert_linkage(rows)\n",
    "                rows = []\n",
    "                i=1\n",
    "                print (f\"Ingested {total_records} records\")\n",
    "\n",
    "        if len(rows) > 0 :\n",
    "            model.upsert_linkage(rows)\n",
    "\n",
    "        print (f\"Ingested {total_records} records\")"
   ]
  },
  {
   "cell_type": "code",
   "execution_count": 81,
   "id": "casual-tutorial",
   "metadata": {},
   "outputs": [],
   "source": [
    "df = pd.read_csv(\"adult.data\")\n",
    "df[\"unique_id\"] = df.index"
   ]
  },
  {
   "cell_type": "code",
   "execution_count": 82,
   "id": "frequent-scale",
   "metadata": {},
   "outputs": [
    {
     "data": {
      "text/plain": [
       "Index(['39', ' State-gov', ' 77516', ' Bachelors', ' 13', ' Never-married',\n",
       "       ' Adm-clerical', ' Not-in-family', ' White', ' Male', ' 2174', ' 0',\n",
       "       ' 40', ' United-States', ' <=50K', 'unique_id'],\n",
       "      dtype='object')"
      ]
     },
     "execution_count": 82,
     "metadata": {},
     "output_type": "execute_result"
    }
   ],
   "source": [
    "df.columns"
   ]
  },
  {
   "cell_type": "code",
   "execution_count": 83,
   "id": "heavy-beatles",
   "metadata": {},
   "outputs": [],
   "source": [
    "df.columns = [\"age\", \"workclass\", \"fnlwgt\", \"education\", \"educationnum\", \"marital\", \"occupation\", \"relationship\", \"race\", \"sex\", \"capitalgain\", \"capitalloss\", \"hoursperweek\", \"nativecountry\", \"income\", \"unique_id\"]"
   ]
  },
  {
   "cell_type": "code",
   "execution_count": 84,
   "id": "static-graphic",
   "metadata": {},
   "outputs": [
    {
     "data": {
      "text/plain": [
       "Index(['age', 'workclass', 'fnlwgt', 'education', 'educationnum', 'marital',\n",
       "       'occupation', 'relationship', 'race', 'sex', 'capitalgain',\n",
       "       'capitalloss', 'hoursperweek', 'nativecountry', 'income', 'unique_id'],\n",
       "      dtype='object')"
      ]
     },
     "execution_count": 84,
     "metadata": {},
     "output_type": "execute_result"
    }
   ],
   "source": [
    "df.columns"
   ]
  },
  {
   "cell_type": "code",
   "execution_count": 85,
   "id": "afraid-italian",
   "metadata": {},
   "outputs": [
    {
     "data": {
      "text/html": [
       "<div>\n",
       "<style scoped>\n",
       "    .dataframe tbody tr th:only-of-type {\n",
       "        vertical-align: middle;\n",
       "    }\n",
       "\n",
       "    .dataframe tbody tr th {\n",
       "        vertical-align: top;\n",
       "    }\n",
       "\n",
       "    .dataframe thead th {\n",
       "        text-align: right;\n",
       "    }\n",
       "</style>\n",
       "<table border=\"1\" class=\"dataframe\">\n",
       "  <thead>\n",
       "    <tr style=\"text-align: right;\">\n",
       "      <th></th>\n",
       "      <th>age</th>\n",
       "      <th>workclass</th>\n",
       "      <th>fnlwgt</th>\n",
       "      <th>education</th>\n",
       "      <th>educationnum</th>\n",
       "      <th>marital</th>\n",
       "      <th>occupation</th>\n",
       "      <th>relationship</th>\n",
       "      <th>race</th>\n",
       "      <th>sex</th>\n",
       "      <th>capitalgain</th>\n",
       "      <th>capitalloss</th>\n",
       "      <th>hoursperweek</th>\n",
       "      <th>nativecountry</th>\n",
       "      <th>income</th>\n",
       "      <th>unique_id</th>\n",
       "    </tr>\n",
       "  </thead>\n",
       "  <tbody>\n",
       "    <tr>\n",
       "      <th>0</th>\n",
       "      <td>50</td>\n",
       "      <td>Self-emp-not-inc</td>\n",
       "      <td>83311</td>\n",
       "      <td>Bachelors</td>\n",
       "      <td>13</td>\n",
       "      <td>Married-civ-spouse</td>\n",
       "      <td>Exec-managerial</td>\n",
       "      <td>Husband</td>\n",
       "      <td>White</td>\n",
       "      <td>Male</td>\n",
       "      <td>0</td>\n",
       "      <td>0</td>\n",
       "      <td>13</td>\n",
       "      <td>United-States</td>\n",
       "      <td>&lt;=50K</td>\n",
       "      <td>0</td>\n",
       "    </tr>\n",
       "    <tr>\n",
       "      <th>1</th>\n",
       "      <td>38</td>\n",
       "      <td>Private</td>\n",
       "      <td>215646</td>\n",
       "      <td>HS-grad</td>\n",
       "      <td>9</td>\n",
       "      <td>Divorced</td>\n",
       "      <td>Handlers-cleaners</td>\n",
       "      <td>Not-in-family</td>\n",
       "      <td>White</td>\n",
       "      <td>Male</td>\n",
       "      <td>0</td>\n",
       "      <td>0</td>\n",
       "      <td>40</td>\n",
       "      <td>United-States</td>\n",
       "      <td>&lt;=50K</td>\n",
       "      <td>1</td>\n",
       "    </tr>\n",
       "    <tr>\n",
       "      <th>2</th>\n",
       "      <td>53</td>\n",
       "      <td>Private</td>\n",
       "      <td>234721</td>\n",
       "      <td>11th</td>\n",
       "      <td>7</td>\n",
       "      <td>Married-civ-spouse</td>\n",
       "      <td>Handlers-cleaners</td>\n",
       "      <td>Husband</td>\n",
       "      <td>Black</td>\n",
       "      <td>Male</td>\n",
       "      <td>0</td>\n",
       "      <td>0</td>\n",
       "      <td>40</td>\n",
       "      <td>United-States</td>\n",
       "      <td>&lt;=50K</td>\n",
       "      <td>2</td>\n",
       "    </tr>\n",
       "    <tr>\n",
       "      <th>3</th>\n",
       "      <td>28</td>\n",
       "      <td>Private</td>\n",
       "      <td>338409</td>\n",
       "      <td>Bachelors</td>\n",
       "      <td>13</td>\n",
       "      <td>Married-civ-spouse</td>\n",
       "      <td>Prof-specialty</td>\n",
       "      <td>Wife</td>\n",
       "      <td>Black</td>\n",
       "      <td>Female</td>\n",
       "      <td>0</td>\n",
       "      <td>0</td>\n",
       "      <td>40</td>\n",
       "      <td>Cuba</td>\n",
       "      <td>&lt;=50K</td>\n",
       "      <td>3</td>\n",
       "    </tr>\n",
       "    <tr>\n",
       "      <th>4</th>\n",
       "      <td>37</td>\n",
       "      <td>Private</td>\n",
       "      <td>284582</td>\n",
       "      <td>Masters</td>\n",
       "      <td>14</td>\n",
       "      <td>Married-civ-spouse</td>\n",
       "      <td>Exec-managerial</td>\n",
       "      <td>Wife</td>\n",
       "      <td>White</td>\n",
       "      <td>Female</td>\n",
       "      <td>0</td>\n",
       "      <td>0</td>\n",
       "      <td>40</td>\n",
       "      <td>United-States</td>\n",
       "      <td>&lt;=50K</td>\n",
       "      <td>4</td>\n",
       "    </tr>\n",
       "  </tbody>\n",
       "</table>\n",
       "</div>"
      ],
      "text/plain": [
       "   age          workclass  fnlwgt   education  educationnum  \\\n",
       "0   50   Self-emp-not-inc   83311   Bachelors            13   \n",
       "1   38            Private  215646     HS-grad             9   \n",
       "2   53            Private  234721        11th             7   \n",
       "3   28            Private  338409   Bachelors            13   \n",
       "4   37            Private  284582     Masters            14   \n",
       "\n",
       "               marital          occupation    relationship    race      sex  \\\n",
       "0   Married-civ-spouse     Exec-managerial         Husband   White     Male   \n",
       "1             Divorced   Handlers-cleaners   Not-in-family   White     Male   \n",
       "2   Married-civ-spouse   Handlers-cleaners         Husband   Black     Male   \n",
       "3   Married-civ-spouse      Prof-specialty            Wife   Black   Female   \n",
       "4   Married-civ-spouse     Exec-managerial            Wife   White   Female   \n",
       "\n",
       "   capitalgain  capitalloss  hoursperweek   nativecountry  income  unique_id  \n",
       "0            0            0            13   United-States   <=50K          0  \n",
       "1            0            0            40   United-States   <=50K          1  \n",
       "2            0            0            40   United-States   <=50K          2  \n",
       "3            0            0            40            Cuba   <=50K          3  \n",
       "4            0            0            40   United-States   <=50K          4  "
      ]
     },
     "execution_count": 85,
     "metadata": {},
     "output_type": "execute_result"
    }
   ],
   "source": [
    "df.head()"
   ]
  },
  {
   "cell_type": "code",
   "execution_count": 86,
   "id": "broadband-timing",
   "metadata": {},
   "outputs": [
    {
     "name": "stderr",
     "output_type": "stream",
     "text": [
      "DEBUG:phoenixdb.avatica.client:Sending request\n",
      "connection_id: \"8fcc8cb3-ec46-462d-939d-59e6947f4010\"\n",
      "\n",
      "DEBUG:phoenixdb.avatica.client:Creating a new Session\n",
      "DEBUG:phoenixdb.avatica.client:POST https://cod-suflg1bo4gnt-gateway0.demo-aws.ylcu-atmi.cloudera.site/cod-suflg1bo4gnt/cdp-proxy-api/avatica b'\\n?org.apache.calcite.avatica.proto.Requests$OpenConnectionRequest\\x12&\\n$8fcc8cb3-ec46-462d-939d-59e6947f4010' {'User-Agent': 'python-requests/2.25.1', 'Accept-Encoding': 'gzip, deflate', 'Accept': '*/*', 'Connection': 'keep-alive', 'content-type': 'application/x-google-protobuf'}\n",
      "DEBUG:urllib3.connectionpool:Starting new HTTPS connection (1): cod-suflg1bo4gnt-gateway0.demo-aws.ylcu-atmi.cloudera.site:443\n",
      "DEBUG:urllib3.connectionpool:https://cod-suflg1bo4gnt-gateway0.demo-aws.ylcu-atmi.cloudera.site:443 \"POST /cod-suflg1bo4gnt/cdp-proxy-api/avatica HTTP/1.1\" 200 135\n",
      "DEBUG:phoenixdb.avatica.client:Received response\n",
      "name: \"org.apache.calcite.avatica.proto.Responses$OpenConnectionResponse\"\n",
      "wrapped_message: \"\\n@\\n>cod-suflg1bo4gnt-worker0.demo-aws.ylcu-atmi.cloudera.site:8765\"\n",
      "\n",
      "DEBUG:phoenixdb.avatica.client:Sending request\n",
      "connection_id: \"8fcc8cb3-ec46-462d-939d-59e6947f4010\"\n",
      "conn_props {\n",
      "  auto_commit: true\n",
      "  has_auto_commit: true\n",
      "  has_read_only: true\n",
      "}\n",
      "\n",
      "DEBUG:phoenixdb.avatica.client:POST https://cod-suflg1bo4gnt-gateway0.demo-aws.ylcu-atmi.cloudera.site/cod-suflg1bo4gnt/cdp-proxy-api/avatica b'\\n?org.apache.calcite.avatica.proto.Requests$ConnectionSyncRequest\\x12.\\n$8fcc8cb3-ec46-462d-939d-59e6947f4010\\x12\\x06\\x10\\x018\\x01@\\x01' {'User-Agent': 'python-requests/2.25.1', 'Accept-Encoding': 'gzip, deflate', 'Accept': '*/*', 'Connection': 'keep-alive', 'content-type': 'application/x-google-protobuf'}\n",
      "DEBUG:urllib3.connectionpool:https://cod-suflg1bo4gnt-gateway0.demo-aws.ylcu-atmi.cloudera.site:443 \"POST /cod-suflg1bo4gnt/cdp-proxy-api/avatica HTTP/1.1\" 200 145\n",
      "DEBUG:phoenixdb.avatica.client:Received response\n",
      "name: \"org.apache.calcite.avatica.proto.Responses$ConnectionSyncResponse\"\n",
      "wrapped_message: \"\\n\\010\\020\\001 \\0028\\001@\\001\\022@\\n>cod-suflg1bo4gnt-worker0.demo-aws.ylcu-atmi.cloudera.site:8765\"\n",
      "\n",
      "DEBUG:phoenixdb.avatica.client:Sending request\n",
      "connection_id: \"fc3a7c09-d2ea-4a09-b153-122a1c65005c\"\n",
      "\n",
      "DEBUG:phoenixdb.avatica.client:POST https://cod-suflg1bo4gnt-gateway0.demo-aws.ylcu-atmi.cloudera.site/cod-suflg1bo4gnt/cdp-proxy-api/avatica b'\\n?org.apache.calcite.avatica.proto.Requests$CloseStatementRequest\\x12&\\n$fc3a7c09-d2ea-4a09-b153-122a1c65005c' {'User-Agent': 'python-requests/2.25.1', 'Accept-Encoding': 'gzip, deflate', 'Accept': '*/*', 'Connection': 'keep-alive', 'content-type': 'application/x-google-protobuf'}\n",
      "DEBUG:urllib3.connectionpool:Resetting dropped connection: cod-suflg1bo4gnt-gateway0.demo-aws.ylcu-atmi.cloudera.site\n",
      "DEBUG:urllib3.connectionpool:https://cod-suflg1bo4gnt-gateway0.demo-aws.ylcu-atmi.cloudera.site:443 \"POST /cod-suflg1bo4gnt/cdp-proxy-api/avatica HTTP/1.1\" 200 135\n",
      "DEBUG:phoenixdb.avatica.client:Received response\n",
      "name: \"org.apache.calcite.avatica.proto.Responses$CloseStatementResponse\"\n",
      "wrapped_message: \"\\n@\\n>cod-suflg1bo4gnt-worker0.demo-aws.ylcu-atmi.cloudera.site:8765\"\n",
      "\n",
      "DEBUG:phoenixdb.avatica.client:Sending request\n",
      "connection_id: \"fc3a7c09-d2ea-4a09-b153-122a1c65005c\"\n",
      "\n",
      "DEBUG:phoenixdb.avatica.client:POST https://cod-suflg1bo4gnt-gateway0.demo-aws.ylcu-atmi.cloudera.site/cod-suflg1bo4gnt/cdp-proxy-api/avatica b'\\n@org.apache.calcite.avatica.proto.Requests$CloseConnectionRequest\\x12&\\n$fc3a7c09-d2ea-4a09-b153-122a1c65005c' {'User-Agent': 'python-requests/2.25.1', 'Accept-Encoding': 'gzip, deflate', 'Accept': '*/*', 'Connection': 'keep-alive', 'content-type': 'application/x-google-protobuf'}\n",
      "DEBUG:urllib3.connectionpool:https://cod-suflg1bo4gnt-gateway0.demo-aws.ylcu-atmi.cloudera.site:443 \"POST /cod-suflg1bo4gnt/cdp-proxy-api/avatica HTTP/1.1\" 200 136\n",
      "DEBUG:phoenixdb.avatica.client:Received response\n",
      "name: \"org.apache.calcite.avatica.proto.Responses$CloseConnectionResponse\"\n",
      "wrapped_message: \"\\n@\\n>cod-suflg1bo4gnt-worker0.demo-aws.ylcu-atmi.cloudera.site:8765\"\n",
      "\n"
     ]
    }
   ],
   "source": [
    "#import logging\n",
    "#logging.basicConfig( level=logging.DEBUG)\n",
    "\n",
    "import os\n",
    "import phoenixdb\n",
    "model=Db()"
   ]
  },
  {
   "cell_type": "code",
   "execution_count": 87,
   "id": "sought-austria",
   "metadata": {},
   "outputs": [
    {
     "name": "stderr",
     "output_type": "stream",
     "text": [
      "DEBUG:phoenixdb.avatica.client:Sending request\n",
      "connection_id: \"8fcc8cb3-ec46-462d-939d-59e6947f4010\"\n",
      "\n",
      "DEBUG:phoenixdb.avatica.client:POST https://cod-suflg1bo4gnt-gateway0.demo-aws.ylcu-atmi.cloudera.site/cod-suflg1bo4gnt/cdp-proxy-api/avatica b'\\n@org.apache.calcite.avatica.proto.Requests$CreateStatementRequest\\x12&\\n$8fcc8cb3-ec46-462d-939d-59e6947f4010' {'User-Agent': 'python-requests/2.25.1', 'Accept-Encoding': 'gzip, deflate', 'Accept': '*/*', 'Connection': 'keep-alive', 'content-type': 'application/x-google-protobuf'}\n",
      "DEBUG:urllib3.connectionpool:https://cod-suflg1bo4gnt-gateway0.demo-aws.ylcu-atmi.cloudera.site:443 \"POST /cod-suflg1bo4gnt/cdp-proxy-api/avatica HTTP/1.1\" 200 176\n",
      "DEBUG:phoenixdb.avatica.client:Received response\n",
      "name: \"org.apache.calcite.avatica.proto.Responses$CreateStatementResponse\"\n",
      "wrapped_message: \"\\n$8fcc8cb3-ec46-462d-939d-59e6947f4010\\020\\001\\032@\\n>cod-suflg1bo4gnt-worker0.demo-aws.ylcu-atmi.cloudera.site:8765\"\n",
      "\n",
      "DEBUG:phoenixdb.avatica.client:Sending request\n",
      "connection_id: \"8fcc8cb3-ec46-462d-939d-59e6947f4010\"\n",
      "sql: \"\\n        CREATE TABLE IF NOT EXISTS \\\"COD_DEMO_TABLE\\\" (\\n        age VARCHAR,\\n        workclass VARCHAR,\\n        fnlwgt VARCHAR,\\n        education VARCHAR,\\n        educationnum  VARCHAR,\\n        marital VARCHAR,\\n        occupation VARCHAR,\\n        relationship VARCHAR,\\n        race  VARCHAR,\\n        sex VARCHAR,\\n        capitalgain VARCHAR,\\n        capitalloss VARCHAR,\\n        hoursperweek  VARCHAR,\\n        nativecountry VARCHAR, \\n        income VARCHAR,\\n        unique_id VARCHAR CONSTRAINT my_pk PRIMARY KEY (unique_id))\\n        \"\n",
      "statement_id: 1\n",
      "first_frame_max_size: 2000\n",
      "\n",
      "DEBUG:phoenixdb.avatica.client:POST https://cod-suflg1bo4gnt-gateway0.demo-aws.ylcu-atmi.cloudera.site/cod-suflg1bo4gnt/cdp-proxy-api/avatica b'\\nBorg.apache.calcite.avatica.proto.Requests$PrepareAndExecuteRequest\\x12\\xc3\\x04\\n$8fcc8cb3-ec46-462d-939d-59e6947f4010\\x12\\x95\\x04\\n        CREATE TABLE IF NOT EXISTS \"COD_DEMO_TABLE\" (\\n        age VARCHAR,\\n        workclass VARCHAR,\\n        fnlwgt VARCHAR,\\n        education VARCHAR,\\n        educationnum  VARCHAR,\\n        marital VARCHAR,\\n        occupation VARCHAR,\\n        relationship VARCHAR,\\n        race  VARCHAR,\\n        sex VARCHAR,\\n        capitalgain VARCHAR,\\n        capitalloss VARCHAR,\\n        hoursperweek  VARCHAR,\\n        nativecountry VARCHAR, \\n        income VARCHAR,\\n        unique_id VARCHAR CONSTRAINT my_pk PRIMARY KEY (unique_id))\\n         \\x010\\xd0\\x0f' {'User-Agent': 'python-requests/2.25.1', 'Accept-Encoding': 'gzip, deflate', 'Accept': '*/*', 'Connection': 'keep-alive', 'content-type': 'application/x-google-protobuf'}\n",
      "DEBUG:urllib3.connectionpool:https://cod-suflg1bo4gnt-gateway0.demo-aws.ylcu-atmi.cloudera.site:443 \"POST /cod-suflg1bo4gnt/cdp-proxy-api/avatica HTTP/1.1\" 200 130\n",
      "DEBUG:phoenixdb.avatica.client:Received response\n",
      "name: \"org.apache.calcite.avatica.proto.Responses$ExecuteResponse\"\n",
      "wrapped_message: \"\\020\\001\\032@\\n>cod-suflg1bo4gnt-worker1.demo-aws.ylcu-atmi.cloudera.site:8765\"\n",
      "\n"
     ]
    }
   ],
   "source": [
    "import logging\n",
    "logging.basicConfig(level=logging.DEBUG)\n",
    "\n",
    "#model.drop_stocks_table()\n",
    "model.create_linkage_table()"
   ]
  },
  {
   "cell_type": "code",
   "execution_count": 88,
   "id": "blind-evans",
   "metadata": {},
   "outputs": [
    {
     "name": "stderr",
     "output_type": "stream",
     "text": [
      "DEBUG:phoenixdb.avatica.client:Sending request\n",
      "connection_id: \"54a76627-e364-41e6-b4b3-9805e8de1e3a\"\n",
      "\n",
      "DEBUG:phoenixdb.avatica.client:Creating a new Session\n",
      "DEBUG:phoenixdb.avatica.client:POST https://cod-suflg1bo4gnt-gateway0.demo-aws.ylcu-atmi.cloudera.site/cod-suflg1bo4gnt/cdp-proxy-api/avatica b'\\n?org.apache.calcite.avatica.proto.Requests$OpenConnectionRequest\\x12&\\n$54a76627-e364-41e6-b4b3-9805e8de1e3a' {'User-Agent': 'python-requests/2.25.1', 'Accept-Encoding': 'gzip, deflate', 'Accept': '*/*', 'Connection': 'keep-alive', 'content-type': 'application/x-google-protobuf'}\n",
      "DEBUG:urllib3.connectionpool:Starting new HTTPS connection (1): cod-suflg1bo4gnt-gateway0.demo-aws.ylcu-atmi.cloudera.site:443\n",
      "DEBUG:urllib3.connectionpool:https://cod-suflg1bo4gnt-gateway0.demo-aws.ylcu-atmi.cloudera.site:443 \"POST /cod-suflg1bo4gnt/cdp-proxy-api/avatica HTTP/1.1\" 200 135\n",
      "DEBUG:phoenixdb.avatica.client:Received response\n",
      "name: \"org.apache.calcite.avatica.proto.Responses$OpenConnectionResponse\"\n",
      "wrapped_message: \"\\n@\\n>cod-suflg1bo4gnt-worker1.demo-aws.ylcu-atmi.cloudera.site:8765\"\n",
      "\n",
      "DEBUG:phoenixdb.avatica.client:Sending request\n",
      "connection_id: \"54a76627-e364-41e6-b4b3-9805e8de1e3a\"\n",
      "conn_props {\n",
      "  auto_commit: true\n",
      "  has_auto_commit: true\n",
      "  has_read_only: true\n",
      "}\n",
      "\n",
      "DEBUG:phoenixdb.avatica.client:POST https://cod-suflg1bo4gnt-gateway0.demo-aws.ylcu-atmi.cloudera.site/cod-suflg1bo4gnt/cdp-proxy-api/avatica b'\\n?org.apache.calcite.avatica.proto.Requests$ConnectionSyncRequest\\x12.\\n$54a76627-e364-41e6-b4b3-9805e8de1e3a\\x12\\x06\\x10\\x018\\x01@\\x01' {'User-Agent': 'python-requests/2.25.1', 'Accept-Encoding': 'gzip, deflate', 'Accept': '*/*', 'Connection': 'keep-alive', 'content-type': 'application/x-google-protobuf'}\n",
      "DEBUG:urllib3.connectionpool:https://cod-suflg1bo4gnt-gateway0.demo-aws.ylcu-atmi.cloudera.site:443 \"POST /cod-suflg1bo4gnt/cdp-proxy-api/avatica HTTP/1.1\" 200 145\n",
      "DEBUG:phoenixdb.avatica.client:Received response\n",
      "name: \"org.apache.calcite.avatica.proto.Responses$ConnectionSyncResponse\"\n",
      "wrapped_message: \"\\n\\010\\020\\001 \\0028\\001@\\001\\022@\\n>cod-suflg1bo4gnt-worker1.demo-aws.ylcu-atmi.cloudera.site:8765\"\n",
      "\n",
      "DEBUG:phoenixdb.avatica.client:Sending request\n",
      "connection_id: \"54a76627-e364-41e6-b4b3-9805e8de1e3a\"\n",
      "sql: \"upsert into \\\"COD_DEMO_TABLE\\\"              (age,workclass,fnlwgt,education,educationnum,marital,occupation,relationship,race,sex,capitalgain,capitalloss,hoursperweek,nativecountry,income, unique_id)              values (?,?,?,?,?,?,?,?,?,?,?,?,?,?,?)\"\n",
      "\n",
      "DEBUG:phoenixdb.avatica.client:POST https://cod-suflg1bo4gnt-gateway0.demo-aws.ylcu-atmi.cloudera.site/cod-suflg1bo4gnt/cdp-proxy-api/avatica b'\\n8org.apache.calcite.avatica.proto.Requests$PrepareRequest\\x12\\xa2\\x02\\n$54a76627-e364-41e6-b4b3-9805e8de1e3a\\x12\\xf9\\x01upsert into \"COD_DEMO_TABLE\"              (age,workclass,fnlwgt,education,educationnum,marital,occupation,relationship,race,sex,capitalgain,capitalloss,hoursperweek,nativecountry,income, unique_id)              values (?,?,?,?,?,?,?,?,?,?,?,?,?,?,?)' {'User-Agent': 'python-requests/2.25.1', 'Accept-Encoding': 'gzip, deflate', 'Accept': '*/*', 'Connection': 'keep-alive', 'content-type': 'application/x-google-protobuf'}\n",
      "DEBUG:urllib3.connectionpool:https://cod-suflg1bo4gnt-gateway0.demo-aws.ylcu-atmi.cloudera.site:443 \"POST /cod-suflg1bo4gnt/cdp-proxy-api/avatica HTTP/1.1\" 500 5327\n",
      "DEBUG:phoenixdb.avatica.client:Received response\n",
      "b'\\n8org.apache.calcite.avatica.proto.Responses$ErrorResponse\\x12\\x92)\\n\\xe1&java.lang.RuntimeException: org.apache.phoenix.schema.TableNotFoundException: ERROR 1012 (42M03): Table undefined. tableName=COD_DEMO_TABLE\\n\\tat org.apache.calcite.avatica.jdbc.JdbcMeta.propagate(JdbcMeta.java:700)\\n\\tat org.apache.calcite.avatica.jdbc.JdbcMeta.prepare(JdbcMeta.java:726)\\n\\tat org.apache.calcite.avatica.remote.LocalService.apply(LocalService.java:195)\\n\\tat org.apache.calcite.avatica.remote.Service$PrepareRequest.accept(Service.java:1215)\\n\\tat org.apache.calcite.avatica.remote.Service$PrepareRequest.accept(Service.java:1186)\\n\\tat org.apache.calcite.avatica.remote.AbstractHandler.apply(AbstractHandler.java:94)\\n\\tat org.apache.calcite.avatica.remote.ProtobufHandler.apply(ProtobufHandler.java:46)\\n\\tat org.apache.calcite.avatica.server.AvaticaProtobufHandler$2.call(AvaticaProtobufHandler.java:130)\\n\\tat org.apache.calcite.avatica.server.AvaticaProtobufHandler$2.call(AvaticaProtobufHandler.java:128)\\n\\tat org.apache.phoenix.queryserver.server.QueryServer$PhoenixDoAsCallback$1.run(QueryServer.java:575)\\n\\tat java.security.AccessController.doPrivileged(Native Method)\\n\\tat javax.security.auth.Subject.doAs(Subject.java:422)\\n\\tat org.apache.hadoop.security.UserGroupInformation.doAs(UserGroupInformation.java:1876)\\n\\tat org.apache.phoenix.queryserver.server.QueryServer$PhoenixDoAsCallback.doAsRemoteUser(QueryServer.java:572)\\n\\tat org.apache.calcite.avatica.server.HttpServer$Builder$1.doAsRemoteUser(HttpServer.java:878)\\n\\tat org.apache.calcite.avatica.server.AvaticaProtobufHandler.handle(AvaticaProtobufHandler.java:127)\\n\\tat org.apache.phoenix.shaded.org.eclipse.jetty.security.SecurityHandler.handle(SecurityHandler.java:555)\\n\\tat org.apache.phoenix.shaded.org.eclipse.jetty.server.handler.HandlerList.handle(HandlerList.java:59)\\n\\tat org.apache.phoenix.shaded.org.eclipse.jetty.server.handler.HandlerWrapper.handle(HandlerWrapper.java:127)\\n\\tat org.apache.phoenix.shaded.org.eclipse.jetty.server.Server.handle(Server.java:500)\\n\\tat org.apache.phoenix.shaded.org.eclipse.jetty.server.HttpChannel.lambda$handle$1(HttpChannel.java:383)\\n\\tat org.apache.phoenix.shaded.org.eclipse.jetty.server.HttpChannel.dispatch(HttpChannel.java:547)\\n\\tat org.apache.phoenix.shaded.org.eclipse.jetty.server.HttpChannel.handle(HttpChannel.java:375)\\n\\tat org.apache.phoenix.shaded.org.eclipse.jetty.server.HttpConnection.onFillable(HttpConnection.java:270)\\n\\tat org.apache.phoenix.shaded.org.eclipse.jetty.io.AbstractConnection$ReadCallback.succeeded(AbstractConnection.java:311)\\n\\tat org.apache.phoenix.shaded.org.eclipse.jetty.io.FillInterest.fillable(FillInterest.java:103)\\n\\tat org.apache.phoenix.shaded.org.eclipse.jetty.io.ssl.SslConnection$DecryptedEndPoint.onFillable(SslConnection.java:543)\\n\\tat org.apache.phoenix.shaded.org.eclipse.jetty.io.ssl.SslConnection.onFillable(SslConnection.java:398)\\n\\tat org.apache.phoenix.shaded.org.eclipse.jetty.io.ssl.SslConnection$2.succeeded(SslConnection.java:161)\\n\\tat org.apache.phoenix.shaded.org.eclipse.jetty.io.FillInterest.fillable(FillInterest.java:103)\\n\\tat org.apache.phoenix.shaded.org.eclipse.jetty.io.ChannelEndPoint$2.run(ChannelEndPoint.java:117)\\n\\tat org.apache.phoenix.shaded.org.eclipse.jetty.util.thread.strategy.EatWhatYouKill.runTask(EatWhatYouKill.java:336)\\n\\tat org.apache.phoenix.shaded.org.eclipse.jetty.util.thread.strategy.EatWhatYouKill.doProduce(EatWhatYouKill.java:313)\\n\\tat org.apache.phoenix.shaded.org.eclipse.jetty.util.thread.strategy.EatWhatYouKill.tryProduce(EatWhatYouKill.java:171)\\n\\tat org.apache.phoenix.shaded.org.eclipse.jetty.util.thread.strategy.EatWhatYouKill.run(EatWhatYouKill.java:129)\\n\\tat org.apache.phoenix.shaded.org.eclipse.jetty.util.thread.ReservedThreadExecutor$ReservedThread.run(ReservedThreadExecutor.java:388)\\n\\tat org.apache.phoenix.shaded.org.eclipse.jetty.util.thread.QueuedThreadPool.runJob(QueuedThreadPool.java:806)\\n\\tat org.apache.phoenix.shaded.org.eclipse.jetty.util.thread.QueuedThreadPool$Runner.run(QueuedThreadPool.java:938)\\n\\tat java.lang.Thread.run(Thread.java:748)\\nCaused by: org.apache.phoenix.schema.TableNotFoundException: ERROR 1012 (42M03): Table undefined. tableName=COD_DEMO_TABLE\\n\\tat org.apache.phoenix.compile.FromCompiler$BaseColumnResolver.createTableRef(FromCompiler.java:604)\\n\\tat org.apache.phoenix.compile.FromCompiler$SingleTableColumnResolver.<init>(FromCompiler.java:396)\\n\\tat org.apache.phoenix.compile.FromCompiler$SingleTableColumnResolver.<init>(FromCompiler.java:388)\\n\\tat org.apache.phoenix.compile.FromCompiler.getResolverForMutation(FromCompiler.java:305)\\n\\tat org.apache.phoenix.compile.UpsertCompiler.compile(UpsertCompiler.java:351)\\n\\tat org.apache.phoenix.jdbc.PhoenixStatement$ExecutableUpsertStatement.compilePlan(PhoenixStatement.java:784)\\n\\tat org.apache.phoenix.jdbc.PhoenixStatement$ExecutableUpsertStatement.compilePlan(PhoenixStatement.java:770)\\n\\tat org.apache.phoenix.jdbc.PhoenixPreparedStatement.getParameterMetaData(PhoenixPreparedStatement.java:253)\\n\\tat org.apache.calcite.avatica.jdbc.JdbcMeta.prepare(JdbcMeta.java:721)\\n\\t... 37 more\\n\\x12\\xda\\x01RuntimeException: org.apache.phoenix.schema.TableNotFoundException: ERROR 1012 (42M03): Table undefined. tableName=COD_DEMO_TABLE -> TableNotFoundException: ERROR 1012 (42M03): Table undefined. tableName=COD_DEMO_TABLE \\xff\\xff\\xff\\xff\\x0f*\\x05000002@\\n>cod-suflg1bo4gnt-worker1.demo-aws.ylcu-atmi.cloudera.site:87658\\x01'\n"
     ]
    },
    {
     "ename": "ProgrammingError",
     "evalue": "('Table undefined. tableName=COD_DEMO_TABLE', 1012, '42M03', None)",
     "output_type": "error",
     "traceback": [
      "\u001b[0;31m---------------------------------------------------------------------------\u001b[0m",
      "\u001b[0;31mProgrammingError\u001b[0m                          Traceback (most recent call last)",
      "\u001b[0;32m<ipython-input-88-301f50ae81b2>\u001b[0m in \u001b[0;36m<module>\u001b[0;34m\u001b[0m\n\u001b[1;32m      2\u001b[0m \u001b[0mlogging\u001b[0m\u001b[0;34m.\u001b[0m\u001b[0mbasicConfig\u001b[0m\u001b[0;34m(\u001b[0m\u001b[0mlevel\u001b[0m\u001b[0;34m=\u001b[0m\u001b[0mlogging\u001b[0m\u001b[0;34m.\u001b[0m\u001b[0mDEBUG\u001b[0m\u001b[0;34m)\u001b[0m\u001b[0;34m\u001b[0m\u001b[0;34m\u001b[0m\u001b[0m\n\u001b[1;32m      3\u001b[0m \u001b[0;34m\u001b[0m\u001b[0m\n\u001b[0;32m----> 4\u001b[0;31m \u001b[0mupsert_data\u001b[0m\u001b[0;34m(\u001b[0m\u001b[0mdf\u001b[0m\u001b[0;34m)\u001b[0m\u001b[0;34m\u001b[0m\u001b[0;34m\u001b[0m\u001b[0m\n\u001b[0m",
      "\u001b[0;32m<ipython-input-80-dd7f83a7ed98>\u001b[0m in \u001b[0;36mupsert_data\u001b[0;34m(data, records)\u001b[0m\n\u001b[1;32m     21\u001b[0m                 \u001b[0mi\u001b[0m\u001b[0;34m=\u001b[0m\u001b[0mi\u001b[0m\u001b[0;34m+\u001b[0m\u001b[0;36m1\u001b[0m\u001b[0;34m\u001b[0m\u001b[0;34m\u001b[0m\u001b[0m\n\u001b[1;32m     22\u001b[0m             \u001b[0;32melse\u001b[0m \u001b[0;34m:\u001b[0m\u001b[0;34m\u001b[0m\u001b[0;34m\u001b[0m\u001b[0m\n\u001b[0;32m---> 23\u001b[0;31m                 \u001b[0mmodel\u001b[0m\u001b[0;34m.\u001b[0m\u001b[0mupsert_linkage\u001b[0m\u001b[0;34m(\u001b[0m\u001b[0mrows\u001b[0m\u001b[0;34m)\u001b[0m\u001b[0;34m\u001b[0m\u001b[0;34m\u001b[0m\u001b[0m\n\u001b[0m\u001b[1;32m     24\u001b[0m                 \u001b[0mrows\u001b[0m \u001b[0;34m=\u001b[0m \u001b[0;34m[\u001b[0m\u001b[0;34m]\u001b[0m\u001b[0;34m\u001b[0m\u001b[0;34m\u001b[0m\u001b[0m\n\u001b[1;32m     25\u001b[0m                 \u001b[0mi\u001b[0m\u001b[0;34m=\u001b[0m\u001b[0;36m1\u001b[0m\u001b[0;34m\u001b[0m\u001b[0;34m\u001b[0m\u001b[0m\n",
      "\u001b[0;32m<ipython-input-79-f4c095ef475c>\u001b[0m in \u001b[0;36mupsert_linkage\u001b[0;34m(self, data)\u001b[0m\n\u001b[1;32m     40\u001b[0m              values (?,?,?,?,?,?,?,?,?,?,?,?,?,?,?)\"\"\"\n\u001b[1;32m     41\u001b[0m         \u001b[0;31m#print(data)\u001b[0m\u001b[0;34m\u001b[0m\u001b[0;34m\u001b[0m\u001b[0;34m\u001b[0m\u001b[0m\n\u001b[0;32m---> 42\u001b[0;31m         \u001b[0mself\u001b[0m\u001b[0;34m.\u001b[0m\u001b[0mcurs\u001b[0m\u001b[0;34m.\u001b[0m\u001b[0mexecutemany\u001b[0m\u001b[0;34m(\u001b[0m\u001b[0msql\u001b[0m\u001b[0;34m,\u001b[0m\u001b[0mdata\u001b[0m\u001b[0;34m)\u001b[0m\u001b[0;34m\u001b[0m\u001b[0;34m\u001b[0m\u001b[0m\n\u001b[0m\u001b[1;32m     43\u001b[0m         \u001b[0mself\u001b[0m\u001b[0;34m.\u001b[0m\u001b[0mconn\u001b[0m\u001b[0;34m.\u001b[0m\u001b[0mcommit\u001b[0m\u001b[0;34m(\u001b[0m\u001b[0;34m)\u001b[0m\u001b[0;34m\u001b[0m\u001b[0;34m\u001b[0m\u001b[0m\n\u001b[1;32m     44\u001b[0m \u001b[0;34m\u001b[0m\u001b[0m\n",
      "\u001b[0;32m~/.local/lib/python3.6/site-packages/phoenixdb/cursor.py\u001b[0m in \u001b[0;36mexecutemany\u001b[0;34m(self, operation, seq_of_parameters)\u001b[0m\n\u001b[1;32m    240\u001b[0m         \u001b[0mself\u001b[0m\u001b[0;34m.\u001b[0m\u001b[0m_set_frame\u001b[0m\u001b[0;34m(\u001b[0m\u001b[0;32mNone\u001b[0m\u001b[0;34m)\u001b[0m\u001b[0;34m\u001b[0m\u001b[0;34m\u001b[0m\u001b[0m\n\u001b[1;32m    241\u001b[0m         statement = self._connection._client.prepare(\n\u001b[0;32m--> 242\u001b[0;31m             self._connection._id, operation, max_rows_total=0)\n\u001b[0m\u001b[1;32m    243\u001b[0m         \u001b[0mself\u001b[0m\u001b[0;34m.\u001b[0m\u001b[0m_set_id\u001b[0m\u001b[0;34m(\u001b[0m\u001b[0mstatement\u001b[0m\u001b[0;34m.\u001b[0m\u001b[0mid\u001b[0m\u001b[0;34m)\u001b[0m\u001b[0;34m\u001b[0m\u001b[0;34m\u001b[0m\u001b[0m\n\u001b[1;32m    244\u001b[0m         \u001b[0mself\u001b[0m\u001b[0;34m.\u001b[0m\u001b[0m_set_signature\u001b[0m\u001b[0;34m(\u001b[0m\u001b[0mstatement\u001b[0m\u001b[0;34m.\u001b[0m\u001b[0msignature\u001b[0m\u001b[0;34m)\u001b[0m\u001b[0;34m\u001b[0m\u001b[0;34m\u001b[0m\u001b[0m\n",
      "\u001b[0;32m~/.local/lib/python3.6/site-packages/phoenixdb/avatica/client.py\u001b[0m in \u001b[0;36mprepare\u001b[0;34m(self, connection_id, sql, max_rows_total)\u001b[0m\n\u001b[1;32m    475\u001b[0m             \u001b[0mrequest\u001b[0m\u001b[0;34m.\u001b[0m\u001b[0mmax_rows_total\u001b[0m \u001b[0;34m=\u001b[0m \u001b[0mmax_rows_total\u001b[0m\u001b[0;34m\u001b[0m\u001b[0;34m\u001b[0m\u001b[0m\n\u001b[1;32m    476\u001b[0m \u001b[0;34m\u001b[0m\u001b[0m\n\u001b[0;32m--> 477\u001b[0;31m         \u001b[0mresponse_data\u001b[0m \u001b[0;34m=\u001b[0m \u001b[0mself\u001b[0m\u001b[0;34m.\u001b[0m\u001b[0m_apply\u001b[0m\u001b[0;34m(\u001b[0m\u001b[0mrequest\u001b[0m\u001b[0;34m)\u001b[0m\u001b[0;34m\u001b[0m\u001b[0;34m\u001b[0m\u001b[0m\n\u001b[0m\u001b[1;32m    478\u001b[0m         \u001b[0mresponse\u001b[0m \u001b[0;34m=\u001b[0m \u001b[0mresponses_pb2\u001b[0m\u001b[0;34m.\u001b[0m\u001b[0mPrepareResponse\u001b[0m\u001b[0;34m(\u001b[0m\u001b[0;34m)\u001b[0m\u001b[0;34m\u001b[0m\u001b[0;34m\u001b[0m\u001b[0m\n\u001b[1;32m    479\u001b[0m         \u001b[0mresponse\u001b[0m\u001b[0;34m.\u001b[0m\u001b[0mParseFromString\u001b[0m\u001b[0;34m(\u001b[0m\u001b[0mresponse_data\u001b[0m\u001b[0;34m)\u001b[0m\u001b[0;34m\u001b[0m\u001b[0;34m\u001b[0m\u001b[0m\n",
      "\u001b[0;32m~/.local/lib/python3.6/site-packages/phoenixdb/avatica/client.py\u001b[0m in \u001b[0;36m_apply\u001b[0;34m(self, request_data, expected_response_type)\u001b[0m\n\u001b[1;32m    225\u001b[0m             \u001b[0;32melse\u001b[0m\u001b[0;34m:\u001b[0m\u001b[0;34m\u001b[0m\u001b[0;34m\u001b[0m\u001b[0m\n\u001b[1;32m    226\u001b[0m                 \u001b[0;31m# assume the response is in protobuf format\u001b[0m\u001b[0;34m\u001b[0m\u001b[0;34m\u001b[0m\u001b[0;34m\u001b[0m\u001b[0m\n\u001b[0;32m--> 227\u001b[0;31m                 \u001b[0mparse_error_protobuf\u001b[0m\u001b[0;34m(\u001b[0m\u001b[0mresponse_body\u001b[0m\u001b[0;34m)\u001b[0m\u001b[0;34m\u001b[0m\u001b[0;34m\u001b[0m\u001b[0m\n\u001b[0m\u001b[1;32m    228\u001b[0m             \u001b[0;32mraise\u001b[0m \u001b[0merrors\u001b[0m\u001b[0;34m.\u001b[0m\u001b[0mInterfaceError\u001b[0m\u001b[0;34m(\u001b[0m\u001b[0;34m'RPC request returned invalid status code'\u001b[0m\u001b[0;34m,\u001b[0m \u001b[0mresponse\u001b[0m\u001b[0;34m.\u001b[0m\u001b[0mstatus_code\u001b[0m\u001b[0;34m)\u001b[0m\u001b[0;34m\u001b[0m\u001b[0;34m\u001b[0m\u001b[0m\n\u001b[1;32m    229\u001b[0m \u001b[0;34m\u001b[0m\u001b[0m\n",
      "\u001b[0;32m~/.local/lib/python3.6/site-packages/phoenixdb/avatica/client.py\u001b[0m in \u001b[0;36mparse_error_protobuf\u001b[0;34m(text)\u001b[0m\n\u001b[1;32m    125\u001b[0m         \u001b[0;32mreturn\u001b[0m\u001b[0;34m\u001b[0m\u001b[0;34m\u001b[0m\u001b[0m\n\u001b[1;32m    126\u001b[0m \u001b[0;34m\u001b[0m\u001b[0m\n\u001b[0;32m--> 127\u001b[0;31m     \u001b[0mparse_and_raise_sql_error\u001b[0m\u001b[0;34m(\u001b[0m\u001b[0merr\u001b[0m\u001b[0;34m.\u001b[0m\u001b[0merror_message\u001b[0m\u001b[0;34m)\u001b[0m\u001b[0;34m\u001b[0m\u001b[0;34m\u001b[0m\u001b[0m\n\u001b[0m\u001b[1;32m    128\u001b[0m     \u001b[0mraise_sql_error\u001b[0m\u001b[0;34m(\u001b[0m\u001b[0merr\u001b[0m\u001b[0;34m.\u001b[0m\u001b[0merror_code\u001b[0m\u001b[0;34m,\u001b[0m \u001b[0merr\u001b[0m\u001b[0;34m.\u001b[0m\u001b[0msql_state\u001b[0m\u001b[0;34m,\u001b[0m \u001b[0merr\u001b[0m\u001b[0;34m.\u001b[0m\u001b[0merror_message\u001b[0m\u001b[0;34m)\u001b[0m\u001b[0;34m\u001b[0m\u001b[0;34m\u001b[0m\u001b[0m\n\u001b[1;32m    129\u001b[0m     \u001b[0;31m# Not a protobuf error, fall through\u001b[0m\u001b[0;34m\u001b[0m\u001b[0;34m\u001b[0m\u001b[0;34m\u001b[0m\u001b[0m\n",
      "\u001b[0;32m~/.local/lib/python3.6/site-packages/phoenixdb/avatica/client.py\u001b[0m in \u001b[0;36mparse_and_raise_sql_error\u001b[0;34m(message)\u001b[0m\n\u001b[1;32m    101\u001b[0m     \u001b[0;32mif\u001b[0m \u001b[0mmatch\u001b[0m \u001b[0;32mis\u001b[0m \u001b[0;32mnot\u001b[0m \u001b[0;32mNone\u001b[0m \u001b[0;32mand\u001b[0m \u001b[0mlen\u001b[0m\u001b[0;34m(\u001b[0m\u001b[0mmatch\u001b[0m\u001b[0;34m)\u001b[0m\u001b[0;34m:\u001b[0m\u001b[0;34m\u001b[0m\u001b[0;34m\u001b[0m\u001b[0m\n\u001b[1;32m    102\u001b[0m         \u001b[0mexception\u001b[0m\u001b[0;34m,\u001b[0m \u001b[0mcode\u001b[0m\u001b[0;34m,\u001b[0m \u001b[0msqlstate\u001b[0m\u001b[0;34m,\u001b[0m \u001b[0mmessage\u001b[0m \u001b[0;34m=\u001b[0m \u001b[0mmatch\u001b[0m\u001b[0;34m[\u001b[0m\u001b[0;36m0\u001b[0m\u001b[0;34m]\u001b[0m\u001b[0;34m\u001b[0m\u001b[0;34m\u001b[0m\u001b[0m\n\u001b[0;32m--> 103\u001b[0;31m         \u001b[0mraise_sql_error\u001b[0m\u001b[0;34m(\u001b[0m\u001b[0mint\u001b[0m\u001b[0;34m(\u001b[0m\u001b[0mcode\u001b[0m\u001b[0;34m)\u001b[0m\u001b[0;34m,\u001b[0m \u001b[0msqlstate\u001b[0m\u001b[0;34m,\u001b[0m \u001b[0mmessage\u001b[0m\u001b[0;34m)\u001b[0m\u001b[0;34m\u001b[0m\u001b[0;34m\u001b[0m\u001b[0m\n\u001b[0m\u001b[1;32m    104\u001b[0m \u001b[0;34m\u001b[0m\u001b[0m\n\u001b[1;32m    105\u001b[0m \u001b[0;34m\u001b[0m\u001b[0m\n",
      "\u001b[0;32m~/.local/lib/python3.6/site-packages/phoenixdb/avatica/client.py\u001b[0m in \u001b[0;36mraise_sql_error\u001b[0;34m(code, sqlstate, message)\u001b[0m\n\u001b[1;32m     93\u001b[0m     \u001b[0;32mfor\u001b[0m \u001b[0mprefix\u001b[0m\u001b[0;34m,\u001b[0m \u001b[0merror_class\u001b[0m \u001b[0;32min\u001b[0m \u001b[0mSQLSTATE_ERROR_CLASSES\u001b[0m\u001b[0;34m:\u001b[0m\u001b[0;34m\u001b[0m\u001b[0;34m\u001b[0m\u001b[0m\n\u001b[1;32m     94\u001b[0m         \u001b[0;32mif\u001b[0m \u001b[0msqlstate\u001b[0m\u001b[0;34m.\u001b[0m\u001b[0mstartswith\u001b[0m\u001b[0;34m(\u001b[0m\u001b[0mprefix\u001b[0m\u001b[0;34m)\u001b[0m\u001b[0;34m:\u001b[0m\u001b[0;34m\u001b[0m\u001b[0;34m\u001b[0m\u001b[0m\n\u001b[0;32m---> 95\u001b[0;31m             \u001b[0;32mraise\u001b[0m \u001b[0merror_class\u001b[0m\u001b[0;34m(\u001b[0m\u001b[0mmessage\u001b[0m\u001b[0;34m,\u001b[0m \u001b[0mcode\u001b[0m\u001b[0;34m,\u001b[0m \u001b[0msqlstate\u001b[0m\u001b[0;34m)\u001b[0m\u001b[0;34m\u001b[0m\u001b[0;34m\u001b[0m\u001b[0m\n\u001b[0m\u001b[1;32m     96\u001b[0m     \u001b[0;32mraise\u001b[0m \u001b[0merrors\u001b[0m\u001b[0;34m.\u001b[0m\u001b[0mInternalError\u001b[0m\u001b[0;34m(\u001b[0m\u001b[0mmessage\u001b[0m\u001b[0;34m,\u001b[0m \u001b[0mcode\u001b[0m\u001b[0;34m,\u001b[0m \u001b[0msqlstate\u001b[0m\u001b[0;34m)\u001b[0m\u001b[0;34m\u001b[0m\u001b[0;34m\u001b[0m\u001b[0m\n\u001b[1;32m     97\u001b[0m \u001b[0;34m\u001b[0m\u001b[0m\n",
      "\u001b[0;31mProgrammingError\u001b[0m: ('Table undefined. tableName=COD_DEMO_TABLE', 1012, '42M03', None)"
     ]
    }
   ],
   "source": [
    "import logging\n",
    "logging.basicConfig(level=logging.DEBUG)\n",
    "\n",
    "upsert_data(df)"
   ]
  },
  {
   "cell_type": "code",
   "execution_count": 10,
   "id": "olympic-lounge",
   "metadata": {},
   "outputs": [
    {
     "ename": "NameError",
     "evalue": "name 'model' is not defined",
     "output_type": "error",
     "traceback": [
      "\u001b[0;31m---------------------------------------------------------------------------\u001b[0m",
      "\u001b[0;31mNameError\u001b[0m                                 Traceback (most recent call last)",
      "\u001b[0;32m<ipython-input-10-806e0676028d>\u001b[0m in \u001b[0;36m<module>\u001b[0;34m\u001b[0m\n\u001b[0;32m----> 1\u001b[0;31m \u001b[0mmodel\u001b[0m\u001b[0;34m.\u001b[0m\u001b[0mget_data\u001b[0m\u001b[0;34m(\u001b[0m\u001b[0;34m)\u001b[0m\u001b[0;34m\u001b[0m\u001b[0;34m\u001b[0m\u001b[0m\n\u001b[0m",
      "\u001b[0;31mNameError\u001b[0m: name 'model' is not defined"
     ]
    }
   ],
   "source": [
    "model.get_data()"
   ]
  },
  {
   "cell_type": "code",
   "execution_count": null,
   "id": "weird-detail",
   "metadata": {},
   "outputs": [],
   "source": []
  }
 ],
 "metadata": {
  "kernelspec": {
   "display_name": "Python 3",
   "language": "python",
   "name": "python3"
  },
  "language_info": {
   "codemirror_mode": {
    "name": "ipython",
    "version": 3
   },
   "file_extension": ".py",
   "mimetype": "text/x-python",
   "name": "python",
   "nbconvert_exporter": "python",
   "pygments_lexer": "ipython3",
   "version": "3.6.12"
  }
 },
 "nbformat": 4,
 "nbformat_minor": 5
}
